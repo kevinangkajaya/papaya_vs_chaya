{
 "cells": [
  {
   "cell_type": "code",
   "execution_count": null,
   "id": "42ddd934-ca5f-418b-8775-516cbd467a3d",
   "metadata": {},
   "outputs": [],
   "source": [
    "#hide\n",
    "#! [ -e /content ] && pip install -Uqq fastbook\n",
    "import fastbook\n",
    "fastbook.setup_book()"
   ]
  },
  {
   "cell_type": "code",
   "execution_count": null,
   "id": "8367adfb-8e55-4ca0-9c0e-e6dbe6bff557",
   "metadata": {},
   "outputs": [],
   "source": [
    "#hide\n",
    "from fastbook import *\n",
    "from fastai.vision.widgets import *"
   ]
  },
  {
   "cell_type": "code",
   "execution_count": null,
   "id": "70ccacee-b079-487c-a0fe-7c8ed813d250",
   "metadata": {},
   "outputs": [],
   "source": [
    "path = Path('training_export')\n",
    "filename = \"export.pkl\""
   ]
  },
  {
   "cell_type": "code",
   "execution_count": null,
   "id": "2b5fc238-923d-4a09-b24e-16676ee590a5",
   "metadata": {},
   "outputs": [],
   "source": [
    "learn_inf = load_learner(path/filename)"
   ]
  },
  {
   "cell_type": "code",
   "execution_count": 21,
   "id": "bcc36f47-1365-4580-adfe-8ff738bd680d",
   "metadata": {},
   "outputs": [],
   "source": [
    "#images_to_predict = ['images/chaya/chaya leaf.jpg','images/chaya/chaya plants.jpg',\n",
    "#                     'images/papaya/papaya fruit.jpg','images/papaya/papaya leaf.jpg','images/papaya/papaya plant and fruit.jpg']\n",
    "#for x in images_to_predict:\n",
    "#    print(learn_inf.predict(x))"
   ]
  },
  {
   "cell_type": "markdown",
   "id": "5f675d2d-15c5-4968-8120-0df17ba9d406",
   "metadata": {},
   "source": [
    "## Upload Button to check Papaya vs Chaya"
   ]
  },
  {
   "cell_type": "code",
   "execution_count": 15,
   "id": "506a253d-e7c5-49fe-b09c-eec8b95fab8d",
   "metadata": {},
   "outputs": [],
   "source": [
    "#hide\n",
    "#Putting back btn_upload to a widget for next cell\n",
    "btn_upload = widgets.FileUpload()"
   ]
  },
  {
   "cell_type": "code",
   "execution_count": 16,
   "id": "c10b85e5-0a17-4640-b9b0-410ce2622429",
   "metadata": {},
   "outputs": [],
   "source": [
    "#hide_output\n",
    "out_pl = widgets.Output()\n",
    "out_pl.clear_output()"
   ]
  },
  {
   "cell_type": "code",
   "execution_count": 17,
   "id": "98218e0d-d547-4af6-a368-211c04c5f68c",
   "metadata": {},
   "outputs": [],
   "source": [
    "#hide_output\n",
    "lbl_pred = widgets.Label()"
   ]
  },
  {
   "cell_type": "code",
   "execution_count": 18,
   "id": "6eb68a1b-eeb7-4a94-a254-3eea751ffcd0",
   "metadata": {},
   "outputs": [],
   "source": [
    "#hide_output\n",
    "btn_run = widgets.Button(description='Classify')"
   ]
  },
  {
   "cell_type": "code",
   "execution_count": 19,
   "id": "b10729e0-9725-4fc1-ad04-cef5851f0b2e",
   "metadata": {},
   "outputs": [],
   "source": [
    "def on_click_classify(change):\n",
    "    img = PILImage.create(btn_upload.data[-1])\n",
    "    out_pl.clear_output()\n",
    "    with out_pl: display(img.to_thumb(128,128))\n",
    "    pred,pred_idx,probs = learn_inf.predict(img)\n",
    "    lbl_pred.value = f'Prediction: {pred}; Probability: {probs[pred_idx]:.04f}'\n",
    "\n",
    "btn_run.on_click(on_click_classify)"
   ]
  },
  {
   "cell_type": "code",
   "execution_count": 20,
   "id": "c17e6769-0281-4f52-827a-9f1ace493b41",
   "metadata": {},
   "outputs": [
    {
     "data": {
      "application/vnd.jupyter.widget-view+json": {
       "model_id": "bf8f111d29b74e72b1d2e767e956f5a5",
       "version_major": 2,
       "version_minor": 0
      },
      "text/plain": [
       "VBox(children=(Label(value='Upload papaya or chaya plant images!'), FileUpload(value={}, description='Upload')…"
      ]
     },
     "metadata": {},
     "output_type": "display_data"
    }
   ],
   "source": [
    "#hide_output\n",
    "VBox([widgets.Label('Upload papaya or chaya plant images!'), \n",
    "      btn_upload, btn_run, out_pl, lbl_pred])"
   ]
  },
  {
   "cell_type": "code",
   "execution_count": null,
   "id": "77269199-4db1-481a-8b02-29cbc97178c5",
   "metadata": {},
   "outputs": [],
   "source": []
  }
 ],
 "metadata": {
  "kernelspec": {
   "display_name": "Python 3 (ipykernel)",
   "language": "python",
   "name": "python3"
  },
  "language_info": {
   "codemirror_mode": {
    "name": "ipython",
    "version": 3
   },
   "file_extension": ".py",
   "mimetype": "text/x-python",
   "name": "python",
   "nbconvert_exporter": "python",
   "pygments_lexer": "ipython3",
   "version": "3.10.14"
  }
 },
 "nbformat": 4,
 "nbformat_minor": 5
}
